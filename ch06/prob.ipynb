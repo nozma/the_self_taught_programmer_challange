{
 "cells": [
  {
   "cell_type": "code",
   "execution_count": 1,
   "metadata": {},
   "outputs": [
    {
     "name": "stdout",
     "output_type": "stream",
     "text": [
      "カ\n",
      "ミ\n",
      "ュ\n"
     ]
    }
   ],
   "source": [
    "# challenge 1\n",
    "str = \"カミュ\"\n",
    "for s in str:\n",
    "    print(s)"
   ]
  },
  {
   "cell_type": "code",
   "execution_count": 2,
   "metadata": {},
   "outputs": [
    {
     "name": "stdout",
     "output_type": "stream",
     "text": [
      "私は昨日アレを書いて、ソレに送った!\n"
     ]
    }
   ],
   "source": [
    "# challenge 2\n",
    "str1 = \"アレ\"\n",
    "str2 = \"ソレ\"\n",
    "print(f\"私は昨日{str1}を書いて、{str2}に送った!\")"
   ]
  },
  {
   "cell_type": "code",
   "execution_count": 3,
   "metadata": {},
   "outputs": [
    {
     "data": {
      "text/plain": [
       "'Aldous huxley was born in 1894'"
      ]
     },
     "execution_count": 3,
     "metadata": {},
     "output_type": "execute_result"
    }
   ],
   "source": [
    "# challenge 3\n",
    "str = \"aldous Huxley was born in 1894\"\n",
    "str.capitalize()"
   ]
  },
  {
   "cell_type": "code",
   "execution_count": 4,
   "metadata": {},
   "outputs": [
    {
     "data": {
      "text/plain": [
       "['どこで?', 'だれが?', 'いつ?']"
      ]
     },
     "execution_count": 4,
     "metadata": {},
     "output_type": "execute_result"
    }
   ],
   "source": [
    "# challenge 4\n",
    "str = \"どこで? だれが? いつ?\"\n",
    "str.split()"
   ]
  },
  {
   "cell_type": "code",
   "execution_count": 5,
   "metadata": {},
   "outputs": [
    {
     "data": {
      "text/plain": [
       "'The fox jumped over the fence.'"
      ]
     },
     "execution_count": 5,
     "metadata": {},
     "output_type": "execute_result"
    }
   ],
   "source": [
    "# challenge 5\n",
    "strlist = [\"The\", \"fox\", \"jumped\", \"over\", \"the\", \"fence\", \".\"]\n",
    "\" \".join(strlist[:-1]) + strlist[-1]"
   ]
  },
  {
   "cell_type": "code",
   "execution_count": 6,
   "metadata": {},
   "outputs": [
    {
     "data": {
      "text/plain": [
       "'A $creaming come$ acro$$ the $ky.'"
      ]
     },
     "execution_count": 6,
     "metadata": {},
     "output_type": "execute_result"
    }
   ],
   "source": [
    "# challenge 6\n",
    "str = \"A screaming comes across the sky.\"\n",
    "str.replace(\"s\", \"$\")"
   ]
  },
  {
   "cell_type": "code",
   "execution_count": 7,
   "metadata": {},
   "outputs": [
    {
     "data": {
      "text/plain": [
       "2"
      ]
     },
     "execution_count": 7,
     "metadata": {},
     "output_type": "execute_result"
    }
   ],
   "source": [
    "# challenge 7\n",
    "str = \"Hemingway\"\n",
    "str.find(\"m\")"
   ]
  },
  {
   "cell_type": "code",
   "execution_count": 8,
   "metadata": {},
   "outputs": [
    {
     "name": "stdout",
     "output_type": "stream",
     "text": [
      "まず、両手の人差し指と中指を耳のあたりにもってきて、ウサギの耳のように\"\"という形(すなわちクォーテーションマーク)を作りながら、ある語(たとえば「進捗的な」といった)を発話する、という動作である。こうすることによって、発話している語がクォーテーションに入っていることを示すのである。この動作を何と呼ぶのか、私は最近まで知らなかったのだが、インターネット等で調べていると\"air quotes\", \"finger quotes\", \"finger-dance quotes\"などと呼ばれていることがわかってきた。つまり「空中に描くクォーテーションマーク」というわけである。\n",
      "木村大治 『括弧の意味論』 p.61\n"
     ]
    }
   ],
   "source": [
    "# challenge 8\n",
    "sentence = \"\"\"\n",
    "まず、両手の人差し指と中指を耳のあたりにもってきて、ウサギの耳のように\"\"という形\n",
    "(すなわちクォーテーションマーク)を作りながら、ある語(たとえば「進捗的な」といった)を発話する、\n",
    "という動作である。こうすることによって、発話している語がクォーテーションに入っていることを示すのである。\n",
    "この動作を何と呼ぶのか、私は最近まで知らなかったのだが、インターネット等で調べていると\n",
    "\"air quotes\", \"finger quotes\", \"finger-dance quotes\"などと呼ばれていることがわかってきた。\n",
    "つまり「空中に描くクォーテーションマーク」というわけである。\n",
    "\"\"\"\n",
    "print(sentence.replace(\"\\n\", \"\"))\n",
    "print(\"木村大治 『括弧の意味論』 p.61\")"
   ]
  },
  {
   "cell_type": "code",
   "execution_count": 9,
   "metadata": {},
   "outputs": [
    {
     "name": "stdout",
     "output_type": "stream",
     "text": [
      "three three three\n"
     ]
    }
   ],
   "source": [
    "# challenge 9\n",
    "print(\"three \" + \"three \" + \"three\")"
   ]
  },
  {
   "cell_type": "code",
   "execution_count": 10,
   "metadata": {},
   "outputs": [
    {
     "name": "stdout",
     "output_type": "stream",
     "text": [
      "three three three\n"
     ]
    }
   ],
   "source": [
    "str = \"three \" * 3\n",
    "print(str.strip())"
   ]
  },
  {
   "cell_type": "code",
   "execution_count": 11,
   "metadata": {},
   "outputs": [
    {
     "data": {
      "text/plain": [
       "'四月の晴れた寒い日で'"
      ]
     },
     "execution_count": 11,
     "metadata": {},
     "output_type": "execute_result"
    }
   ],
   "source": [
    "str = \"四月の晴れた寒い日で、時計がどれも十三時を打っていた。\"\n",
    "str[:str.find(\"、\")]"
   ]
  }
 ],
 "metadata": {
  "kernelspec": {
   "display_name": "Python 3",
   "language": "python",
   "name": "python3"
  },
  "language_info": {
   "codemirror_mode": {
    "name": "ipython",
    "version": 3
   },
   "file_extension": ".py",
   "mimetype": "text/x-python",
   "name": "python",
   "nbconvert_exporter": "python",
   "pygments_lexer": "ipython3",
   "version": "3.6.5"
  }
 },
 "nbformat": 4,
 "nbformat_minor": 2
}
