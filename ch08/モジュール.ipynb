{
  "nbformat": 4,
  "nbformat_minor": 0,
  "metadata": {
    "colab": {
      "name": "モジュール",
      "version": "0.3.2",
      "provenance": [],
      "include_colab_link": true
    },
    "kernelspec": {
      "name": "python3",
      "display_name": "Python 3"
    }
  },
  "cells": [
    {
      "cell_type": "markdown",
      "metadata": {
        "id": "view-in-github",
        "colab_type": "text"
      },
      "source": [
        "[View in Colaboratory](https://colab.research.google.com/github/nozma/the_self_taught_programmer_challenges/blob/master/ch08/%E3%83%A2%E3%82%B8%E3%83%A5%E3%83%BC%E3%83%AB.ipynb)"
      ]
    },
    {
      "metadata": {
        "id": "8IdOcRw4Vzm7",
        "colab_type": "text"
      },
      "cell_type": "markdown",
      "source": [
        "# モジュール\n",
        "\n",
        "> 不屈の努力と情熱は、何歳でも奇跡を起こす。\n",
        ">  ---- George Washington\n",
        "\n",
        "## モジュール is 何\n",
        "\n",
        "- でかいプログラムを1つのファイルに書くのは分かりにくいし、管理もし辛い。\n",
        "- 分割したコードを書いておくファイルそれぞれ = **モジュール**\n",
        "- Pythonは他のPythonファイルをモジュールとして読み込める。モジュール内からほかのモジュールも読み込める。\n",
        "\n",
        "## モジュールの読み込み\n",
        "\n",
        "- モジュールは`import`で読み込む\n",
        "- `hoge.py`というファイルが同じディレクトリにあるとすると、次のようにそのファイルを読み込む。読み込むと、`hoge.py`の中で定義されている関数などが使えるようになる。\n",
        "\n",
        "```python\n",
        "import hoge\n",
        "```\n",
        "\n",
        "## 組み込みモジュール\n",
        "\n",
        "- 最初からPythonに入っているモジュール。\n",
        "- 最初から入ってはいるが、明示的に`import`しないと使えない。"
      ]
    },
    {
      "metadata": {
        "id": "Z14dEv5DYfZr",
        "colab_type": "code",
        "colab": {
          "base_uri": "https://localhost:8080/",
          "height": 34
        },
        "outputId": "b43a01ca-0b82-47b7-dc5d-f27f6cc13831"
      },
      "cell_type": "code",
      "source": [
        "import random\n",
        "\n",
        "random.randint(1, 100)"
      ],
      "execution_count": 1,
      "outputs": [
        {
          "output_type": "execute_result",
          "data": {
            "text/plain": [
              "24"
            ]
          },
          "metadata": {
            "tags": []
          },
          "execution_count": 1
        }
      ]
    },
    {
      "metadata": {
        "id": "CJr55WYN6XDC",
        "colab_type": "text"
      },
      "cell_type": "markdown",
      "source": [
        "- モジュール内の一部のオブジェクトのみインポートすることもできる。その際は、`from [モジュール名] import [モジュール名]`の用にインポートする。"
      ]
    },
    {
      "metadata": {
        "id": "EOlKDS616Ouk",
        "colab_type": "code",
        "colab": {
          "base_uri": "https://localhost:8080/",
          "height": 34
        },
        "outputId": "5e996355-c669-4a88-ab5e-48cf76934204"
      },
      "cell_type": "code",
      "source": [
        "from random import randint\n",
        "\n",
        "randint(1, 100)"
      ],
      "execution_count": 2,
      "outputs": [
        {
          "output_type": "execute_result",
          "data": {
            "text/plain": [
              "39"
            ]
          },
          "metadata": {
            "tags": []
          },
          "execution_count": 2
        }
      ]
    }
  ]
}