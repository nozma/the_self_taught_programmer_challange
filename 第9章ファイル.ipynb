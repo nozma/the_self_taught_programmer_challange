{
  "nbformat": 4,
  "nbformat_minor": 0,
  "metadata": {
    "colab": {
      "name": "ファイル",
      "version": "0.3.2",
      "provenance": [],
      "include_colab_link": true
    },
    "kernelspec": {
      "name": "python3",
      "display_name": "Python 3"
    }
  },
  "cells": [
    {
      "cell_type": "markdown",
      "metadata": {
        "id": "view-in-github",
        "colab_type": "text"
      },
      "source": [
        "[View in Colaboratory](https://colab.research.google.com/github/nozma/the_self_taught_programmer_challenges/blob/master/%E7%AC%AC9%E7%AB%A0%E3%83%95%E3%82%A1%E3%82%A4%E3%83%AB.ipynb)"
      ]
    },
    {
      "metadata": {
        "id": "U4KPOb3w-FHn",
        "colab_type": "text"
      },
      "cell_type": "markdown",
      "source": [
        "# ファイル\n",
        "\n",
        "> 独学こそが唯一の教育である、私はそう強く信じている ---- Isaaac Asimov\n",
        "\n",
        "なんか処理したファイルを読み込みたい…なんか処理した結果をファイルに書き出したい…そんなとき。\n",
        "\n",
        "もちろん手段は用意されています。が、その前に。\n",
        "\n",
        "## ファイルパス\n",
        "\n",
        "ファイルパスは人類が組み立てるべきではない。なぜならWindonsが妙なファイルパスの組み立て方をするからだ…。\n",
        "\n",
        "`os`モジュールの`path.join`関数をつかうとよしなにファイルパスを構築してくれるので、人類はこれをつかおう。"
      ]
    },
    {
      "metadata": {
        "id": "TIV8_EGH9r4y",
        "colab_type": "code",
        "colab": {
          "base_uri": "https://localhost:8080/",
          "height": 34
        },
        "outputId": "311cc449-27ea-41a8-fffb-e23c0b3e6538"
      },
      "cell_type": "code",
      "source": [
        "import os\n",
        "\n",
        "os.path.join(\"hoge\", \"huga\", \"piyo,py\")"
      ],
      "execution_count": 1,
      "outputs": [
        {
          "output_type": "execute_result",
          "data": {
            "text/plain": [
              "'hoge/huga/piyo,py'"
            ]
          },
          "metadata": {
            "tags": []
          },
          "execution_count": 1
        }
      ]
    },
    {
      "metadata": {
        "id": "CBD3c3TpBli7",
        "colab_type": "text"
      },
      "cell_type": "markdown",
      "source": [
        "この方法で組立てたパスは概ね空気を読んで動作してくれるはずだ。"
      ]
    },
    {
      "metadata": {
        "id": "aZ1D4ugSBzqP",
        "colab_type": "text"
      },
      "cell_type": "markdown",
      "source": [
        "## ファイルのオープンとクローズ\n",
        "\n",
        "- ファイルは`open`関数によってコネクションを開く。開いたコネクションは閉じるのを忘れないようにしよう。\n",
        "- コネクションを開くときに、引数によって**書き込めるのか、読み込みだけなのか、エンコードはなんなのか**みたいなことを指定する。\n",
        "- まず(後で読み込み方法を確認するためにも)書き込み方法を確認する。書き込みのためにはモードとして\"w\"を指定する(writeのw)。"
      ]
    },
    {
      "metadata": {
        "id": "-gMUuHOcCT4c",
        "colab_type": "code",
        "colab": {}
      },
      "cell_type": "code",
      "source": [
        "st = open(\"st.txt\", \"w\", encoding=\"utf-8\")\n",
        "st.write(\"人類は温泉に入ったり酒を飲んだりして人生を過ごすべきなのではないか…？\")\n",
        "st.close()"
      ],
      "execution_count": 0,
      "outputs": []
    },
    {
      "metadata": {
        "id": "SvtGvko1Cn4o",
        "colab_type": "text"
      },
      "cell_type": "markdown",
      "source": [
        "## with文\n",
        "\n",
        "「開いたコネクションは閉じるのを忘れない用に」だって？閉じるの忘れそうだよ！という人のために`with`文がある。with文とともにファイルを開くと、文の終了とともに自動的にコネクションが閉じられる。"
      ]
    },
    {
      "metadata": {
        "id": "zrWCMrvPCnb-",
        "colab_type": "code",
        "colab": {}
      },
      "cell_type": "code",
      "source": [
        "with open(\"st.txt\", \"w\") as f:\n",
        "  f.write(\"人類は温泉に入ったり酒を飲んだりして人生をすごすべきなのではないか…？\")"
      ],
      "execution_count": 0,
      "outputs": []
    },
    {
      "metadata": {
        "id": "IKaA5n70DOqr",
        "colab_type": "text"
      },
      "cell_type": "markdown",
      "source": [
        "書き込みがあれば読み込みがある。読み込みは`open`関数を使う"
      ]
    },
    {
      "metadata": {
        "id": "ddBiHKD_DSeY",
        "colab_type": "code",
        "colab": {
          "base_uri": "https://localhost:8080/",
          "height": 34
        },
        "outputId": "46443593-3459-493b-c103-d04573046fa1"
      },
      "cell_type": "code",
      "source": [
        "with open(\"st.txt\", \"r\") as f:# rはread(読み込み専用)でコネクションを開く指定\n",
        "  print(f.read())\n"
      ],
      "execution_count": 3,
      "outputs": [
        {
          "output_type": "stream",
          "text": [
            "人類は温泉に入ったり酒を飲んだりして人生をすごすべきなのではないか…？\n"
          ],
          "name": "stdout"
        }
      ]
    },
    {
      "metadata": {
        "id": "vK7K9tjwDoE8",
        "colab_type": "text"
      },
      "cell_type": "markdown",
      "source": [
        "## 読み込んだ内容の使い回し\n",
        "\n",
        "`read`で読み込んだ内容はその瞬間**一度きり**しか使えないので、あとで使う予定があればなにかオブジェクトに内容をコピーしておくこと。\n",
        "\n",
        "## CSVファイル\n",
        "\n",
        "読み書きしたいテキストファイルNO1はcsvではないだろうか。\n",
        "\n",
        "データはCSVとして書き込みたいし、読み込みたい…。\n",
        "\n",
        "そんな希望を叶えるためのモジュールとして`csv`がある。`csv`を使うとcsvファイルを作成できるが、書き込みは1行ごとであることに注意しよう。\n",
        "\n"
      ]
    },
    {
      "metadata": {
        "id": "-_Ov7d9LDitj",
        "colab_type": "code",
        "colab": {}
      },
      "cell_type": "code",
      "source": [
        "import csv\n",
        "\n",
        "with open(\"st.csv\", \"w\", newline = '') as f: # 書き込み用にファイルを開く\n",
        "  w = csv.writer(f, delimiter=\",\") # csvファイルの書き込み準備をする\n",
        "  w.writerow([\"one\", \"two\", \"three\"])\n",
        "  w.writerow([\"four\", \"five\", \"six\"])"
      ],
      "execution_count": 0,
      "outputs": []
    },
    {
      "metadata": {
        "id": "rdWtnomJIg5B",
        "colab_type": "code",
        "colab": {
          "base_uri": "https://localhost:8080/",
          "height": 51
        },
        "outputId": "34afec26-8773-49cd-9476-be2a7ef988b0"
      },
      "cell_type": "code",
      "source": [
        "with open(\"st.csv\", \"r\") as f: # 先程書き込んだファイルを読み込むために読み込み用でファイルを開く\n",
        "  r = csv.reader(f, delimiter=\",\")\n",
        "  for row in r:\n",
        "    print(\",\".join(row))"
      ],
      "execution_count": 9,
      "outputs": [
        {
          "output_type": "stream",
          "text": [
            "one,two,three\n",
            "four,five,six\n"
          ],
          "name": "stdout"
        }
      ]
    },
    {
      "metadata": {
        "id": "Pu9-sggtJWS5",
        "colab_type": "text"
      },
      "cell_type": "markdown",
      "source": [
        "分析用途だとpandasで読み込んだほうがいいかも…？"
      ]
    },
    {
      "metadata": {
        "id": "KZzL2AfYJCTp",
        "colab_type": "code",
        "colab": {
          "base_uri": "https://localhost:8080/",
          "height": 111
        },
        "outputId": "f9a4ead9-0f00-4098-c340-6f385996302f"
      },
      "cell_type": "code",
      "source": [
        "import pandas as pd\n",
        "\n",
        "pd.read_csv(\"st.csv\", header=None)"
      ],
      "execution_count": 12,
      "outputs": [
        {
          "output_type": "execute_result",
          "data": {
            "text/html": [
              "<div>\n",
              "<style scoped>\n",
              "    .dataframe tbody tr th:only-of-type {\n",
              "        vertical-align: middle;\n",
              "    }\n",
              "\n",
              "    .dataframe tbody tr th {\n",
              "        vertical-align: top;\n",
              "    }\n",
              "\n",
              "    .dataframe thead th {\n",
              "        text-align: right;\n",
              "    }\n",
              "</style>\n",
              "<table border=\"1\" class=\"dataframe\">\n",
              "  <thead>\n",
              "    <tr style=\"text-align: right;\">\n",
              "      <th></th>\n",
              "      <th>0</th>\n",
              "      <th>1</th>\n",
              "      <th>2</th>\n",
              "    </tr>\n",
              "  </thead>\n",
              "  <tbody>\n",
              "    <tr>\n",
              "      <th>0</th>\n",
              "      <td>one</td>\n",
              "      <td>two</td>\n",
              "      <td>three</td>\n",
              "    </tr>\n",
              "    <tr>\n",
              "      <th>1</th>\n",
              "      <td>four</td>\n",
              "      <td>five</td>\n",
              "      <td>six</td>\n",
              "    </tr>\n",
              "  </tbody>\n",
              "</table>\n",
              "</div>"
            ],
            "text/plain": [
              "      0     1      2\n",
              "0   one   two  three\n",
              "1  four  five    six"
            ]
          },
          "metadata": {
            "tags": []
          },
          "execution_count": 12
        }
      ]
    }
  ]
}